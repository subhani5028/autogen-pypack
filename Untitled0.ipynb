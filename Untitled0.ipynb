{
  "nbformat": 4,
  "nbformat_minor": 0,
  "metadata": {
    "colab": {
      "provenance": [],
      "authorship_tag": "ABX9TyNiBunbMstAhj6AsIiUeK4W",
      "include_colab_link": true
    },
    "kernelspec": {
      "name": "python3",
      "display_name": "Python 3"
    },
    "language_info": {
      "name": "python"
    }
  },
  "cells": [
    {
      "cell_type": "markdown",
      "metadata": {
        "id": "view-in-github",
        "colab_type": "text"
      },
      "source": [
        "<a href=\"https://colab.research.google.com/github/subhani5028/autogen-pypack/blob/main/Untitled0.ipynb\" target=\"_parent\"><img src=\"https://colab.research.google.com/assets/colab-badge.svg\" alt=\"Open In Colab\"/></a>"
      ]
    },
    {
      "cell_type": "markdown",
      "source": [],
      "metadata": {
        "id": "cGtiKPOVQUkK"
      }
    },
    {
      "cell_type": "markdown",
      "source": [],
      "metadata": {
        "id": "ysG1t8e6QUwi"
      }
    },
    {
      "cell_type": "code",
      "execution_count": null,
      "metadata": {
        "id": "ImcVRR2LORAZ"
      },
      "outputs": [],
      "source": [
        "pip install streamlit openai python-dotenv\n",
        "OPENAI_API_KEY=your_openai_api_key_here\n",
        "import streamlit as st\n",
        "import os\n",
        "from dotenv import load_dotenv\n",
        "from openai import OpenAI\n",
        "\n",
        "# Load environment variables\n",
        "load_dotenv()\n",
        "client = OpenAI(api_key=os.getenv(\"OPENAI_API_KEY\"))\n",
        "\n",
        "# App title\n",
        "st.set_page_config(page_title=\"My AI Assistant\", page_icon=\"🤖\")\n",
        "st.title(\"🤖 My Grok-like AI Assistant\")\n",
        "\n",
        "# Initialize chat history\n",
        "if \"messages\" not in st.session_state:\n",
        "    st.session_state.messages = []\n",
        "\n",
        "# Display chat history\n",
        "for message in st.session_state.messages:\n",
        "    with st.chat_message(message[\"role\"]):\n",
        "        st.markdown(message[\"content\"])\n",
        "\n",
        "# User input\n",
        "if prompt := st.chat_input(\"Ask me anything...\"):\n",
        "    # Add user message to history\n",
        "    st.session_state.messages.append({\"role\": \"user\", \"content\": prompt})\n",
        "    with st.chat_message(\"user\"):\n",
        "        st.markdown(prompt)\n",
        "\n",
        "    # Get AI response\n",
        "    with st.chat_message(\"assistant\"):\n",
        "        message_placeholder = st.empty()\n",
        "        full_response = \"\"\n",
        "\n",
        "        try:\n",
        "            stream = client.chat.completions.create(\n",
        "                model=\"gpt-4o\",  # or \"gpt-3.5-turbo\"\n",
        "                messages=[\n",
        "                    {\"role\": m[\"role\"], \"content\": m[\"content\"]}\n",
        "                    for m in st.session_state.messages\n",
        "                ],\n",
        "                stream=True,\n",
        "            )\n",
        "\n",
        "            for chunk in stream:\n",
        "                if chunk.choices[0].delta.content:\n",
        "                    full_response += chunk.choices[0].delta.content\n",
        "                    message_placeholder.markdown(full_response + \"▌\")\n",
        "            message_placeholder.markdown(full_response)\n",
        "\n",
        "        except Exception as e:\n",
        "            full_response = f\"⚠️ Error: {str(e)}\"\n",
        "            message_placeholder.markdown(full_response)\n",
        "\n",
        "    # Add assistant response to history\n",
        "    st.session_state.messages.append({\"role\": \"assistant\", \"content\": full_response})\n",
        "\n",
        "ai_provider = st.selectbox(\"Choose AI\", [\"GPT-4\", \"Claude\", \"Gemini\", \"Qwen\"])\n",
        "\n",
        "if ai_provider == \"GPT-4\":\n",
        "    response = openai_call(...)\n",
        "elif ai_provider == \"Claude\":\n",
        "    response = anthropic_call(...)\n",
        "# etc.\n",
        "streamlit run app.py"
      ]
    },
    {
      "cell_type": "code",
      "source": [],
      "metadata": {
        "id": "Fv6u8SJ-Ql-I"
      },
      "execution_count": null,
      "outputs": []
    }
  ]
}