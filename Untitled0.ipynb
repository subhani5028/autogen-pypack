{
  "nbformat": 4,
  "nbformat_minor": 0,
  "metadata": {
    "colab": {
      "provenance": [],
      "authorship_tag": "ABX9TyNhpdTdIe+t35a72bfJuINu",
      "include_colab_link": true
    },
    "kernelspec": {
      "name": "python3",
      "display_name": "Python 3"
    },
    "language_info": {
      "name": "python"
    }
  },
  "cells": [
    {
      "cell_type": "markdown",
      "metadata": {
        "id": "view-in-github",
        "colab_type": "text"
      },
      "source": [
        "<a href=\"https://colab.research.google.com/github/subhani5028/autogen-pypack/blob/main/Untitled0.ipynb\" target=\"_parent\"><img src=\"https://colab.research.google.com/assets/colab-badge.svg\" alt=\"Open In Colab\"/></a>"
      ]
    },
    {
      "cell_type": "markdown",
      "source": [],
      "metadata": {
        "id": "cGtiKPOVQUkK"
      }
    },
    {
      "cell_type": "markdown",
      "source": [],
      "metadata": {
        "id": "ysG1t8e6QUwi"
      }
    },
    {
      "cell_type": "code",
      "source": [
        "def add(x, y):\n",
        "    return x + y\n",
        "\n",
        "def subtract(x, y):\n",
        "    return x - y\n",
        "\n",
        "def multiply(x, y):\n",
        "    return x * y\n",
        "\n",
        "def divide(x, y):\n",
        "    if y == 0:\n",
        "        return \"Error: Division by zero\"\n",
        "    return x / y\n",
        "\n",
        "print(\"=== Simple Calculator ===\")\n",
        "print(\"Choose operation:\")\n",
        "print(\"1. Add (+)\")\n",
        "print(\"2. Subtract (-)\")\n",
        "print(\"3. Multiply (*)\")\n",
        "print(\"4. Divide (/)\")\n",
        "\n",
        "op = input(\"Enter your choice (+, -, *, /): \")\n",
        "a = float(input(\"Enter first number: \"))\n",
        "b = float(input(\"Enter second number: \"))\n",
        "\n",
        "if op == '+':\n",
        "    result = add(a, b)\n",
        "elif op == '-':\n",
        "    result = subtract(a, b)\n",
        "elif op == '*':\n",
        "    result = multiply(a, b)\n",
        "elif op == '/':\n",
        "    result = divide(a, b)\n",
        "else:\n",
        "    result = \"Invalid operator\"\n",
        "\n",
        "print(\"Result:\", result)"
      ],
      "metadata": {
        "id": "tRtsndDuWBFp",
        "colab": {
          "base_uri": "https://localhost:8080/"
        },
        "outputId": "c8f379df-1e2f-4735-bf4b-ca767226649d"
      },
      "execution_count": null,
      "outputs": [
        {
          "output_type": "stream",
          "name": "stdout",
          "text": [
            "=== Simple Calculator ===\n",
            "Choose operation:\n",
            "1. Add (+)\n",
            "2. Subtract (-)\n",
            "3. Multiply (*)\n",
            "4. Divide (/)\n"
          ]
        }
      ]
    },
    {
      "cell_type": "code",
      "source": [],
      "metadata": {
        "id": "cGfvosRLXumJ"
      },
      "execution_count": null,
      "outputs": []
    },
    {
      "cell_type": "markdown",
      "source": [],
      "metadata": {
        "id": "UCBJTq_4Xr6-"
      }
    },
    {
      "cell_type": "markdown",
      "source": [],
      "metadata": {
        "id": "jctTERXaXdBG"
      }
    }
  ]
}